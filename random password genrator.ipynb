{
 "cells": [
  {
   "cell_type": "code",
   "execution_count": 1,
   "id": "4d4321d6-d61e-4f4c-9b7b-df7b7ebba7bd",
   "metadata": {},
   "outputs": [
    {
     "name": "stdin",
     "output_type": "stream",
     "text": [
      "Enter password length:  5\n"
     ]
    },
    {
     "name": "stdout",
     "output_type": "stream",
     "text": [
      "Choose character set for password from these : \n",
      "\t\t1. Digits\n",
      "\t\t2. Letters\n",
      "\t\t3. Special characters\n",
      "\t\t4. Exit\n"
     ]
    },
    {
     "name": "stdin",
     "output_type": "stream",
     "text": [
      "Pick a number  1\n",
      "Pick a number  3\n",
      "Pick a number  4\n"
     ]
    },
    {
     "name": "stdout",
     "output_type": "stream",
     "text": [
      "The random password is bm;-R\n"
     ]
    }
   ],
   "source": [
    "import string\n",
    "import random\n",
    "\n",
    "# Getting password length\n",
    "length = int(input(\"Enter password length: \"))\n",
    "\n",
    "print('''Choose character set for password from these : \n",
    "\t\t1. Digits\n",
    "\t\t2. Letters\n",
    "\t\t3. Special characters\n",
    "\t\t4. Exit''')\n",
    "\n",
    "characterList = \"\"\n",
    "\n",
    "# Getting character set for password\n",
    "while(True):\n",
    "\tchoice = int(input(\"Pick a number \"))\n",
    "\tif(choice == 1):\n",
    "\t\t\n",
    "\t\t# Adding letters to possible characters\n",
    "\t\tcharacterList += string.ascii_letters\n",
    "\telif(choice == 2):\n",
    "\t\t\n",
    "\t\t# Adding digits to possible characters\n",
    "\t\tcharacterList += string.digits\n",
    "\telif(choice == 3):\n",
    "\t\t\n",
    "\t\t# Adding special characters to possible\n",
    "\t\t# characters\n",
    "\t\tcharacterList += string.punctuation\n",
    "\telif(choice == 4):\n",
    "\t\tbreak\n",
    "\telse:\n",
    "\t\tprint(\"Please pick a valid option!\")\n",
    "\n",
    "password = []\n",
    "\n",
    "for i in range(length):\n",
    "\n",
    "\t# Picking a random character from our \n",
    "\t# character list\n",
    "\trandomchar = random.choice(characterList)\n",
    "\t\n",
    "\t# appending a random character to password\n",
    "\tpassword.append(randomchar)\n",
    "\n",
    "# printing password as a string\n",
    "print(\"The random password is \" + \"\".join(password))"
   ]
  },
  {
   "cell_type": "code",
   "execution_count": null,
   "id": "13ee3f57-79f1-4d7f-9c8b-f77e61ebc889",
   "metadata": {},
   "outputs": [],
   "source": []
  }
 ],
 "metadata": {
  "kernelspec": {
   "display_name": "Python 3 (ipykernel)",
   "language": "python",
   "name": "python3"
  },
  "language_info": {
   "codemirror_mode": {
    "name": "ipython",
    "version": 3
   },
   "file_extension": ".py",
   "mimetype": "text/x-python",
   "name": "python",
   "nbconvert_exporter": "python",
   "pygments_lexer": "ipython3",
   "version": "3.12.5"
  }
 },
 "nbformat": 4,
 "nbformat_minor": 5
}
